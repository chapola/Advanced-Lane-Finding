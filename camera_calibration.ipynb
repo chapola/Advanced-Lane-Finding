{
 "cells": [
  {
   "cell_type": "code",
   "execution_count": 2,
   "metadata": {},
   "outputs": [],
   "source": [
    "import numpy as np\n",
    "import cv2\n",
    "import matplotlib.image as mpimg\n",
    "import matplotlib.pyplot as plt\n",
    "import glob\n",
    "import pickle\n",
    "\n",
    "\n"
   ]
  },
  {
   "cell_type": "code",
   "execution_count": 4,
   "metadata": {},
   "outputs": [
    {
     "name": "stdout",
     "output_type": "stream",
     "text": [
      "20\n",
      "camera_calibation2.jpg\n",
      "camera_calibation3.jpg\n",
      "camera_calibation4.jpg\n",
      "camera_calibation5.jpg\n",
      "camera_calibation7.jpg\n",
      "camera_calibation8.jpg\n",
      "camera_calibation9.jpg\n",
      "camera_calibation10.jpg\n",
      "camera_calibation11.jpg\n",
      "camera_calibation12.jpg\n",
      "camera_calibation13.jpg\n",
      "camera_calibation14.jpg\n",
      "camera_calibation15.jpg\n",
      "camera_calibation16.jpg\n",
      "camera_calibation17.jpg\n",
      "camera_calibation18.jpg\n",
      "camera_calibation19.jpg\n"
     ]
    }
   ],
   "source": [
    "%matplotlib qt5\n",
    "\n",
    "images = glob.glob('camera_cal/calibration*.jpg')\n",
    "\n",
    "print(len(images))\n",
    "\n",
    "\n",
    "# Arrays to store the objpoints and image points\n",
    "objpoints = []\n",
    "imgpoints = []\n",
    "\n",
    "objp = np.zeros((6*9,3),np.float32)\n",
    "\n",
    "objp[:,:2] = np.mgrid[0:9,0:6].T.reshape(-1,2)\n",
    "\n",
    "for idx,fname in enumerate(images):\n",
    "    img = mpimg.imread(fname)\n",
    "    # convert to grayscale\n",
    "    gray = cv2.cvtColor(img,cv2.COLOR_BGR2GRAY)\n",
    "    \n",
    "    # find corners\n",
    "    ret,corners = cv2.findChessboardCorners(gray,(9,6),None)\n",
    "    \n",
    "    # If the object points and image points are found add these points to arrays\n",
    "    if ret==True:       \n",
    "        imgpoints.append(corners)\n",
    "        objpoints.append(objp)\n",
    "\n",
    "        # draw the chessboard corners\n",
    "        cv2.drawChessboardCorners(img,(9,6),corners,ret)\n",
    "        write_img = 'camera_calibation'+str(idx)+'.jpg'\n",
    "        print(write_img)\n",
    "        cv2.imwrite('camera_cal/'+write_img,img)     \n",
    "\n",
    "        \n",
    "img = cv2.imread('test_images/test3.jpg')\n",
    "img_size = (img.shape[1],img.shape[0])\n",
    "\n",
    "ret, mtx, dist, rvecs, tvecs = cv2.calibrateCamera(objpoints, imgpoints, img_size, None, None)\n",
    "\n",
    "plt.imshow(img)\n",
    "# Save the Camera calibration esult\n",
    "\n",
    "dist_pickle ={}\n",
    "dist_pickle[\"mtx\"]=mtx\n",
    "dist_pickle[\"dist\"]=dist\n",
    "pickle.dump(dist_pickle,open(\"camera_cal/calibration_pickle.p\",\"wb\"))\n",
    "\n",
    "\n",
    "\n"
   ]
  },
  {
   "cell_type": "code",
   "execution_count": null,
   "metadata": {},
   "outputs": [],
   "source": [
    "\n",
    "\n",
    "\n",
    "\n"
   ]
  },
  {
   "cell_type": "code",
   "execution_count": null,
   "metadata": {},
   "outputs": [],
   "source": []
  },
  {
   "cell_type": "code",
   "execution_count": null,
   "metadata": {},
   "outputs": [],
   "source": []
  }
 ],
 "metadata": {
  "kernelspec": {
   "display_name": "Python 3",
   "language": "python",
   "name": "python3"
  },
  "language_info": {
   "codemirror_mode": {
    "name": "ipython",
    "version": 3
   },
   "file_extension": ".py",
   "mimetype": "text/x-python",
   "name": "python",
   "nbconvert_exporter": "python",
   "pygments_lexer": "ipython3",
   "version": "3.5.2"
  },
  "widgets": {
   "state": {},
   "version": "1.1.2"
  }
 },
 "nbformat": 4,
 "nbformat_minor": 2
}
